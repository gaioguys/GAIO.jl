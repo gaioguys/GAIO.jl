{
 "cells": [
  {
   "cell_type": "markdown",
   "metadata": {},
   "source": [
    "# Einführung in die Parallelisierung (Julia 1.4.1)\n",
    "\n",
    "Zunächst ein paar Liks mit Infos, die im Folgenden aufbereitet wurden:\n",
    "\n",
    "Einführender Artikel im Linux-Magazin: https://www.linux-magazin.de/ausgaben/2015/10/julia/4/ \n",
    "\n",
    "Interessantes Tutorial zum Thema: https://www.youtube.com/watch?v=HWLV6oTmfO8\n",
    "\n",
    "Parallel Computing in Julia Docs : https://docs.julialang.org/en/v1/manual/parallel-computing/\n",
    "\n",
    "DistributedArrays.jl: https://juliaparallel.github.io/DistributedArrays.jl/stable/#Example-1\n"
   ]
  },
  {
   "cell_type": "markdown",
   "metadata": {},
   "source": [
    "### Motivation"
   ]
  },
  {
   "cell_type": "code",
   "execution_count": 1,
   "metadata": {},
   "outputs": [
    {
     "name": "stdout",
     "output_type": "stream",
     "text": [
      "Number of Cores: 1 and Number of Workers: 1    ---     12.448137 seconds (385.42 k allocations: 19.520 MiB, 0.12% gc time)\n"
     ]
    },
    {
     "data": {
      "text/plain": [
       "3.141633092"
      ]
     },
     "execution_count": 1,
     "metadata": {},
     "output_type": "execute_result"
    }
   ],
   "source": [
    "## Beispiel 0: Approximation von Pi mit nur einem Prozess\n",
    "using Distributed\n",
    "\n",
    "# Teste wie viele Prozesse arbeiten\n",
    "print(\"Number of Cores: \", nprocs(),\" and Number of Workers: \", nworkers(), \"    ---    \")\n",
    "\n",
    "# define a function that counts the number of points falling inside the circle\n",
    "@everywhere function points_inside_circle(n)\n",
    "    n_in = 0\n",
    "    for i = 1:n\n",
    "        x, y = rand(), rand()\n",
    "        n_in += (x*x + y*y) <= 1\n",
    "    end\n",
    "    return n_in\n",
    "end\n",
    "\n",
    "# define a function wrapper that computes the approximation of pi in parallel\n",
    "@everywhere function pi_p(n)    \n",
    "    p = nworkers()\n",
    "    n_in = @distributed (+) for i = 1:p\n",
    "        points_inside_circle(n/p)\n",
    "    end\n",
    "    return 4 * n_in / n\n",
    "end\n",
    "\n",
    "\n",
    "@time pi_p(1_000_000_000)\n"
   ]
  },
  {
   "cell_type": "markdown",
   "metadata": {},
   "source": [
    "### Erste Schritte"
   ]
  },
  {
   "cell_type": "raw",
   "metadata": {},
   "source": [
    "### mehrere Prozesse in Julia starten ###\n",
    "\n",
    "# Julia beim Start mitteilen, wie viele Prozesse zu starten sind (hier 4 bei 4 Kernen)\n",
    "-p 4\n",
    "# Prozesse On the Fly hinzufügen (hier 3)\n",
    "using Distributed\n",
    "addprocs(3)\n",
    "\n",
    "#### Eine Variable für alle Prozesse verfügbar machen ###\n",
    "\n",
    "@everywhere x = 12345\n",
    "x0 = 12345\n",
    "@everywhere x = x0 # funktioniert nicht, da x0 lokal ist\n",
    "@everywhere x = $x0 # funktioniert; der x0-Wert wird kopiert\n",
    "\n",
    "#### Eine Funktion für alle Prozesse definieren ###\n",
    "\n",
    "@everywhere function myFunction()\n",
    "    printIn(\"Hallo!\")\n",
    "end\n",
    "\n",
    "\n",
    "myid() # Gibt ID des Prozesses zurück\n",
    "remotecall() # Aufgabe von einem bestimmten Prozess ausführen lassen"
   ]
  },
  {
   "cell_type": "markdown",
   "metadata": {},
   "source": [
    "### Beispiele"
   ]
  },
  {
   "cell_type": "code",
   "execution_count": 2,
   "metadata": {},
   "outputs": [
    {
     "name": "stdout",
     "output_type": "stream",
     "text": [
      "Number of Cores: 6 and Number of Workers: 5    ---    "
     ]
    }
   ],
   "source": [
    "## Beispiel 1: Füge fünf neue Prozesse hinzu \n",
    "using Distributed\n",
    "addprocs(5)\n",
    "print(\"Number of Cores: \", nprocs(),\" and Number of Workers: \", nworkers(), \"    ---    \")\n",
    "# Somit haben wir einen Leader (immer ID 1) und n Worker verteilt auf n+1 Prozesse"
   ]
  },
  {
   "cell_type": "code",
   "execution_count": 3,
   "metadata": {},
   "outputs": [
    {
     "name": "stdout",
     "output_type": "stream",
     "text": [
      "| I have the ID: 2 with PID: 20205 and HOST: MacBook-3.local || I have the ID: 3 with PID: 20206 and HOST: MacBook-3.local || I have the ID: 4 with PID: 20207 and HOST: MacBook-3.local || I have the ID: 5 with PID: 20208 and HOST: MacBook-3.local || I have the ID: 6 with PID: 20209 and HOST: MacBook-3.local |"
     ]
    }
   ],
   "source": [
    "## Beispiel 2: Rufe Informationen über die Prozesse ab\n",
    "for i in workers()\n",
    "    id, pid, host = fetch(@spawnat i (myid(), getpid(), gethostname()))\n",
    "    print(\"| I have the ID: \", id, \" with PID: \", pid, \" and HOST: \", host, \" |\")\n",
    "end"
   ]
  },
  {
   "cell_type": "markdown",
   "metadata": {},
   "source": [
    "### Prozesse ausführen\n",
    "\n",
    "Wichtige Funktionen: \n",
    "* $remotecall()$ - Aufgabe von einem bestimmten Prozess ausführen lassen. (Asynchroner Aufruf, kein Blocking, Return sofort)\n",
    "* $fetch()$ - Ergebnis abholen. (Julia verwendet eine Future-Referenz. Diese ist sofort verfügbar, das Ergebnis muss aber abgholt werden.)\n",
    "* $remotecall$_$fetch()$ - Synchroner Aufruf inkl. Abholung des Ergebnisses. (Kombiniert $remotecal()$ und $fetch()$.)\n",
    "* $@spawn$ - Aufgaben an andere Prozesse senden\n",
    "* $@spawnat$ - Aufgabe an einen bestimmten Prozess senden\n",
    "\n",
    "### Beispiele"
   ]
  },
  {
   "cell_type": "code",
   "execution_count": 4,
   "metadata": {},
   "outputs": [
    {
     "data": {
      "text/plain": [
       "4"
      ]
     },
     "execution_count": 4,
     "metadata": {},
     "output_type": "execute_result"
    }
   ],
   "source": [
    "## Beispiel 3: Prozess mit ID 2 soll 1 + 3 rechnen\n",
    "\n",
    "result = remotecall(+, 2, 1, 3) \n",
    "\n",
    "fetch(result) # Ergebnis muss abgeholt werden"
   ]
  },
  {
   "cell_type": "code",
   "execution_count": 5,
   "metadata": {},
   "outputs": [
    {
     "data": {
      "text/plain": [
       "3×4 Array{Float64,2}:\n",
       " 1.49902  1.33954  1.43374  1.09485\n",
       " 1.68542  1.57466  1.26226  1.13836\n",
       " 1.09244  1.54261  1.56586  1.71432"
      ]
     },
     "execution_count": 5,
     "metadata": {},
     "output_type": "execute_result"
    }
   ],
   "source": [
    "## Beispiel 4: Prozess 2 nutzt Ergebnis von Prozess 4\n",
    "\n",
    "result = remotecall(rand, 4, 3, 4) # Prozess 4 erzeugt eine 3x4 Zufallsmatrix\n",
    "s = @spawnat 2 1 .+ fetch(result)  # Prozess 2 benutzt das Ergebnis von 4 und hängt 1. davor\n",
    "fetch(s)"
   ]
  },
  {
   "cell_type": "code",
   "execution_count": 6,
   "metadata": {},
   "outputs": [
    {
     "name": "stdout",
     "output_type": "stream",
     "text": [
      "  6.453599 seconds (82.94 k allocations: 4.094 MiB)\n"
     ]
    },
    {
     "data": {
      "text/plain": [
       "3.1415535"
      ]
     },
     "execution_count": 6,
     "metadata": {},
     "output_type": "execute_result"
    }
   ],
   "source": [
    "## Beispiel 5: Approximation von Pi mit mehreren Prozessen\n",
    "# Mit @distributed wird die for-loop in der zweiten Funktion verteilt ausgeführt.\n",
    "using Distributed\n",
    "# define a function that counts the number of points falling inside the circle\n",
    "@everywhere function points_inside_circle(n)\n",
    "    n_in = 0\n",
    "    for i = 1:n\n",
    "        x, y = rand(), rand()\n",
    "        n_in += (x*x + y*y) <= 1\n",
    "    end\n",
    "    return n_in\n",
    "end\n",
    "\n",
    "# define a function wrapper that computes the approximation of pi in parallel\n",
    "@everywhere function pi_p(n)    \n",
    "    p = nworkers()\n",
    "    n_in = @distributed (+) for i = 1:p \n",
    "        points_inside_circle(n/p)\n",
    "    end\n",
    "    return 4 * n_in / n\n",
    "end\n",
    "\n",
    "\n",
    "@time pi_p(1_000_000_000)\n"
   ]
  },
  {
   "cell_type": "markdown",
   "metadata": {},
   "source": [
    "Wie man hier sehen  kann, halbiert sich die Berechnungszeit fast, indem man verteilt auf sechs Prozesse rechnet. Ich rechne auf 6 Kernen, also macht diese Aufteilung für mich Sinn."
   ]
  },
  {
   "cell_type": "markdown",
   "metadata": {},
   "source": [
    "# Einführung in das Paket Distributed Arrays\n",
    "Große Berechnungen sind meist aus großen Arrays aufgebaut.\n",
    "In diesem Fall macht es Sinn, die Arrays unter verschiedenen Prozessen aufzuteilen.\n",
    "Indem die Speicherkapazitäten von verschiedenen Maschinen genutzt werden können, können so unter anderem Arrays berechnet werden, die sonst zu groß wären.\n",
    "Jeder Prozess kann den ihm zugewiesenen Teil des Arrays lesen und überschreiben. Gleichzeitig kann jeder Prozess das vollständige Array lesen (read-only).\n",
    "\n",
    "In Julia werden Distributed Arrays durch den \"DArray\"-Typ beschrieben. \n",
    "* Elementtyp und Dimensionen sind wie bei normalen Arrays\n",
    "* Enthaltene Daten werden durch eine Aufteilung der Indexmenge in eine bestimmte Anzahl von Blöcken in jeder Dimension aufgeteilt\n",
    "\n",
    "Vorteile:\n",
    "* When dividing data among a large number of processes, one often sees diminishing returns in performance. Placing DArrays on a subset of processes allows multiple DArray computations to happen at once, with a higher ratio of work to communication on each process.\n",
    "* Each Process has a global view on all distributed objects.\n",
    "\n",
    "Beachte:\n",
    "* Das Konzept unterscheidet sich sehr stark von SPMD."
   ]
  },
  {
   "cell_type": "code",
   "execution_count": 7,
   "metadata": {},
   "outputs": [],
   "source": [
    "@everywhere using DistributedArrays"
   ]
  },
  {
   "cell_type": "markdown",
   "metadata": {},
   "source": [
    "### Beispiele für Distributed Arrays:\n",
    "* Julia übernimmt hier die gesamte Arbeit: Die einzelnen Matrixelemente sind auf die verschiedenen Prozesse verteilt und auch initialisiert."
   ]
  },
  {
   "cell_type": "raw",
   "metadata": {},
   "source": [
    "dzeros(100,100,10)\n",
    "dones(100,100,10)\n",
    "drand(100,100,10)\n",
    "drandn(100,100,10)\n",
    "dfill(x,100,100,10)"
   ]
  },
  {
   "cell_type": "markdown",
   "metadata": {},
   "source": [
    "### Für mehr Kontrolle:\n",
    "* Spezifizifikation eines bestimmten Prozesses für eine Aufgabe\n",
    "* Festlegung, wie die Daten aufgeteilt werden sollen\n",
    "\n",
    "Beispiel:"
   ]
  },
  {
   "cell_type": "code",
   "execution_count": 9,
   "metadata": {},
   "outputs": [
    {
     "data": {
      "text/plain": [
       "100×100 DArray{Float64,2,Array{Float64,2}}:\n",
       " 0.0  0.0  0.0  0.0  0.0  0.0  0.0  0.0  …  0.0  0.0  0.0  0.0  0.0  0.0  0.0\n",
       " 0.0  0.0  0.0  0.0  0.0  0.0  0.0  0.0     0.0  0.0  0.0  0.0  0.0  0.0  0.0\n",
       " 0.0  0.0  0.0  0.0  0.0  0.0  0.0  0.0     0.0  0.0  0.0  0.0  0.0  0.0  0.0\n",
       " 0.0  0.0  0.0  0.0  0.0  0.0  0.0  0.0     0.0  0.0  0.0  0.0  0.0  0.0  0.0\n",
       " 0.0  0.0  0.0  0.0  0.0  0.0  0.0  0.0     0.0  0.0  0.0  0.0  0.0  0.0  0.0\n",
       " 0.0  0.0  0.0  0.0  0.0  0.0  0.0  0.0  …  0.0  0.0  0.0  0.0  0.0  0.0  0.0\n",
       " 0.0  0.0  0.0  0.0  0.0  0.0  0.0  0.0     0.0  0.0  0.0  0.0  0.0  0.0  0.0\n",
       " 0.0  0.0  0.0  0.0  0.0  0.0  0.0  0.0     0.0  0.0  0.0  0.0  0.0  0.0  0.0\n",
       " 0.0  0.0  0.0  0.0  0.0  0.0  0.0  0.0     0.0  0.0  0.0  0.0  0.0  0.0  0.0\n",
       " 0.0  0.0  0.0  0.0  0.0  0.0  0.0  0.0     0.0  0.0  0.0  0.0  0.0  0.0  0.0\n",
       " 0.0  0.0  0.0  0.0  0.0  0.0  0.0  0.0  …  0.0  0.0  0.0  0.0  0.0  0.0  0.0\n",
       " 0.0  0.0  0.0  0.0  0.0  0.0  0.0  0.0     0.0  0.0  0.0  0.0  0.0  0.0  0.0\n",
       " 0.0  0.0  0.0  0.0  0.0  0.0  0.0  0.0     0.0  0.0  0.0  0.0  0.0  0.0  0.0\n",
       " ⋮                        ⋮              ⋱            ⋮                   \n",
       " 0.0  0.0  0.0  0.0  0.0  0.0  0.0  0.0     0.0  0.0  0.0  0.0  0.0  0.0  0.0\n",
       " 0.0  0.0  0.0  0.0  0.0  0.0  0.0  0.0     0.0  0.0  0.0  0.0  0.0  0.0  0.0\n",
       " 0.0  0.0  0.0  0.0  0.0  0.0  0.0  0.0  …  0.0  0.0  0.0  0.0  0.0  0.0  0.0\n",
       " 0.0  0.0  0.0  0.0  0.0  0.0  0.0  0.0     0.0  0.0  0.0  0.0  0.0  0.0  0.0\n",
       " 0.0  0.0  0.0  0.0  0.0  0.0  0.0  0.0     0.0  0.0  0.0  0.0  0.0  0.0  0.0\n",
       " 0.0  0.0  0.0  0.0  0.0  0.0  0.0  0.0     0.0  0.0  0.0  0.0  0.0  0.0  0.0\n",
       " 0.0  0.0  0.0  0.0  0.0  0.0  0.0  0.0     0.0  0.0  0.0  0.0  0.0  0.0  0.0\n",
       " 0.0  0.0  0.0  0.0  0.0  0.0  0.0  0.0  …  0.0  0.0  0.0  0.0  0.0  0.0  0.0\n",
       " 0.0  0.0  0.0  0.0  0.0  0.0  0.0  0.0     0.0  0.0  0.0  0.0  0.0  0.0  0.0\n",
       " 0.0  0.0  0.0  0.0  0.0  0.0  0.0  0.0     0.0  0.0  0.0  0.0  0.0  0.0  0.0\n",
       " 0.0  0.0  0.0  0.0  0.0  0.0  0.0  0.0     0.0  0.0  0.0  0.0  0.0  0.0  0.0\n",
       " 0.0  0.0  0.0  0.0  0.0  0.0  0.0  0.0     0.0  0.0  0.0  0.0  0.0  0.0  0.0"
      ]
     },
     "execution_count": 9,
     "metadata": {},
     "output_type": "execute_result"
    }
   ],
   "source": [
    "#= \n",
    "Second argument: Array should be created on the first three workers.\n",
    "Third argument: Specify a distribution; the nth element of this array specifies\n",
    "how many pieces dimension n should be divided into.\n",
    "HERE: The first dimension will not be divided, the second dimension will be divided into 4 pieces.\n",
    "Therefore each local chunk will be of size (100,25).\n",
    "=#\n",
    "dzeros((100,100), workers()[1:4], [1, 4])"
   ]
  },
  {
   "cell_type": "markdown",
   "metadata": {},
   "source": [
    "## Hilfreiche Funktionen:\n",
    "\n",
    "Note: Indexing a DArray (square brackets) with ranges of indices always creates a SubArray, not copying any data."
   ]
  },
  {
   "cell_type": "raw",
   "metadata": {},
   "source": [
    "localpart(d::DArray)       # Teil des Arrays, der dem lokalen Prozess zugewiesenen ist\n",
    "    d[:L]                  # Teil von d, der dem lokalen Prozess zugewiesenen ist\n",
    "    d[:L] = v              # setze v als den Teil von d, der dem lokalen Prozess zugewiesenen ist\n",
    "localindices(d::DArray)    # Indizes des lokalen Teils des Arrays (Tupel)\n",
    "\n",
    "convert(Array, d::DArray)  # lokaler Prozess soll ein Distributed Array komplett bearbeiten\n",
    "distribute(a::Array)       # Umwandlung eines lokalen Arrays in ein Distributed Array"
   ]
  },
  {
   "cell_type": "markdown",
   "metadata": {},
   "source": [
    "# Initialisierung\n",
    "\n",
    "* $init$ - vom Programmierer bereitzustellen; bekommt ein Tupel von Index-Bereichen übergeben, für die das Array dann innerhalb der Init-Funktion initialisiert wird; Init-Funktion initialisiert also lokale Bereiche des Distributed Arrays\n",
    "* $dims$ - Dimension des Distributed Arrays \n",
    "* $procs$ - Optional: Spezifiziert einen Vektor von Prozess IDs, die genutzt werden sollen\n",
    "* $dist$ - Optional: Integer Vektor, der angibt wie der Distributed Array in jeder Dimension unter den Prozessen aufgeteilt werden soll"
   ]
  },
  {
   "cell_type": "raw",
   "metadata": {},
   "source": [
    "DArray(init, dims[, procs, dist])"
   ]
  },
  {
   "cell_type": "markdown",
   "metadata": {},
   "source": [
    "### Beispiel: Verteilte Zufallsmatrix"
   ]
  },
  {
   "cell_type": "code",
   "execution_count": 10,
   "metadata": {},
   "outputs": [
    {
     "data": {
      "text/plain": [
       "10×2 Array{Float64,2}:\n",
       " 0.659764     0.763937\n",
       " 0.496316     0.455932\n",
       " 0.230941     0.682584\n",
       " 0.396005     0.956611\n",
       " 0.292389     0.98873\n",
       " 0.857961     0.897359\n",
       " 0.11904      0.414582\n",
       " 0.993662     0.804279\n",
       " 0.825948     0.860532\n",
       " 0.000595759  0.413251"
      ]
     },
     "execution_count": 10,
     "metadata": {},
     "output_type": "execute_result"
    }
   ],
   "source": [
    "@everywhere using DistributedArrays\n",
    "# ------------------------------------\n",
    "#=Erzeuge eine verteilte Zufallsmatrix und gib den Teil zurück, für den Prozess 2 verantwortlich ist.\n",
    "Mehrmaliges Hintereinanderausführen führt zu einer immer feineren, automatischen Aufteilung der Matrix,\n",
    "da mehr Prozesse hinzugefügt werden.=#\n",
    "\n",
    "d = drand(10,10);\n",
    "r = @spawnat 2 begin\n",
    "    localpart(d)\n",
    "end\n",
    "fetch(r)"
   ]
  },
  {
   "cell_type": "markdown",
   "metadata": {},
   "source": [
    "Das Praktische: \n",
    "Julia versteckt die gesamte Kommunikation vor dem Benutzer. Will man z.B. die Summe aller Elemente der Matrix berechnen, so ruft man einfach $sum(d)$ auf. Das liefert direkt das Ergebnis. Julia summiert dabei mit jedem einzelnen Prozess alle Elemente des Teilarray auf. Anschließend werden dann alle Teilergebnisse zur Gesamtsumme addiert."
   ]
  },
  {
   "cell_type": "code",
   "execution_count": 11,
   "metadata": {},
   "outputs": [
    {
     "name": "stdout",
     "output_type": "stream",
     "text": [
      "  1.283986 seconds (1.59 M allocations: 91.756 MiB, 1.34% gc time)\n"
     ]
    },
    {
     "data": {
      "text/plain": [
       "51.07062451268587"
      ]
     },
     "execution_count": 11,
     "metadata": {},
     "output_type": "execute_result"
    }
   ],
   "source": [
    "#=Erzeuge eine verteilte Zufallsmatrix.=#\n",
    "\n",
    "d = drand(10,10);\n",
    "\n",
    "@time sum(d)"
   ]
  },
  {
   "attachments": {},
   "cell_type": "markdown",
   "metadata": {},
   "source": [
    "### Beispiel: Matrix verteilt an vier Prozesse angeordnet in einem 2x2-Raster\n",
    "\n",
    "Jeder Prozess ist einem Teil der Matrix zugeordnet, hat aber trotzdem über die globalen Indizes remoten Zugriff auf den Rest der Matrix, obwaohl diese nicht lokal ist. \n"
   ]
  },
  {
   "cell_type": "code",
   "execution_count": 12,
   "metadata": {},
   "outputs": [
    {
     "data": {
      "text/plain": [
       "8×8 DArray{Float64,2,Array{Float64,2}}:\n",
       "  2.0  -1.0   0.0   0.0   0.0   0.0   0.0   0.0\n",
       " -1.0   2.0  -1.0   0.0   0.0   0.0   0.0   0.0\n",
       "  0.0  -1.0   2.0  -1.0   0.0   0.0   0.0   0.0\n",
       "  0.0   0.0  -1.0   2.0  -1.0   0.0   0.0   0.0\n",
       "  0.0   0.0   0.0  -1.0   2.0  -1.0   0.0   0.0\n",
       "  0.0   0.0   0.0   0.0  -1.0   2.0  -1.0   0.0\n",
       "  0.0   0.0   0.0   0.0   0.0  -1.0   2.0  -1.0\n",
       "  0.0   0.0   0.0   0.0   0.0   0.0  -1.0   2.0"
      ]
     },
     "execution_count": 12,
     "metadata": {},
     "output_type": "execute_result"
    }
   ],
   "source": [
    "@everywhere using LinearAlgebra\n",
    "@everywhere using InteractiveUtils \n",
    "\n",
    "# erstelle globale, dünnbesetzte nxn Matrizen aa(n), b1(n) und b2(n)\n",
    "@everywhere function aa(n)\n",
    "    la = zeros(n, n)\n",
    "    la[diagind(la, 0)] .= 2.0\n",
    "    la[diagind(la, -1)] .= -1.0\n",
    "    la[diagind(la, 1)] .= -1.0\n",
    "    return la\n",
    "end\n",
    "\n",
    "@everywhere function b1(n)\n",
    "    la = zeros(n, n);\n",
    "    la[1, n] = -1.0;\n",
    "    return la\n",
    "end\n",
    "\n",
    "@everywhere function b2(n)\n",
    "    la = zeros(n, n);\n",
    "    la[n, 1] = -1.0;\n",
    "    return la\n",
    "end\n",
    "\n",
    "#=  Ordne die Prozesse (Workers) einzelnen Teilen zu\n",
    "    => Es entsteht keine große Datenkommunikation zwischen dem Leader und den Workers\n",
    "    d11 bis d22 sind keine Matrizen, sondern Handles - Futures\n",
    "    => sie nehmen keinen Speicherplatz ein =#\n",
    "   \n",
    "d11 = @spawnat 2 aa(4)\n",
    "d12 = @spawnat 3 b1(4)\n",
    "d21 = @spawnat 4 b2(4)\n",
    "d22 = @spawnat 5 aa(4)\n",
    "\n",
    "#=  erzeuge eine verteilte Matrix\n",
    "    DA ist keine ganze matrix, sondern eine Referenz =#\n",
    "\n",
    "DA = DArray(reshape([d11 d12 d21 d22], (2, 2)))  "
   ]
  },
  {
   "cell_type": "code",
   "execution_count": 13,
   "metadata": {},
   "outputs": [
    {
     "data": {
      "text/latex": [
       "\\begin{tabular}\n",
       "{l | r | l}\n",
       "name & size & summary \\\\\n",
       "\\hline\n",
       "Base &  & Module \\\\\n",
       "Core &  & Module \\\\\n",
       "DA & 544 bytes & 200×200 DArray\\{Float64,2,Array\\{Float64,2\\}\\} \\\\\n",
       "Main &  & Module \\\\\n",
       "aa & 0 bytes & typeof(aa) \\\\\n",
       "b1 & 0 bytes & typeof(b1) \\\\\n",
       "b2 & 0 bytes & typeof(b2) \\\\\n",
       "d & 600 bytes & 10×10 DArray\\{Float64,2,Array\\{Float64,2\\}\\} \\\\\n",
       "d11 & 32 bytes & Future \\\\\n",
       "d12 & 32 bytes & Future \\\\\n",
       "d21 & 32 bytes & Future \\\\\n",
       "d22 & 32 bytes & Future \\\\\n",
       "n & 8 bytes & Int64 \\\\\n",
       "pi\\_p & 0 bytes & typeof(pi\\_p) \\\\\n",
       "points\\_inside\\_circle & 0 bytes & typeof(points\\_inside\\_circle) \\\\\n",
       "r & 240 bytes & Future \\\\\n",
       "result & 32 bytes & Future \\\\\n",
       "s & 176 bytes & Future \\\\\n",
       "\\end{tabular}\n"
      ],
      "text/markdown": [
       "| name                 |      size | summary                                    |\n",
       "|:-------------------- | ---------:|:------------------------------------------ |\n",
       "| Base                 |           | Module                                     |\n",
       "| Core                 |           | Module                                     |\n",
       "| DA                   | 544 bytes | 200×200 DArray{Float64,2,Array{Float64,2}} |\n",
       "| Main                 |           | Module                                     |\n",
       "| aa                   |   0 bytes | typeof(aa)                                 |\n",
       "| b1                   |   0 bytes | typeof(b1)                                 |\n",
       "| b2                   |   0 bytes | typeof(b2)                                 |\n",
       "| d                    | 600 bytes | 10×10 DArray{Float64,2,Array{Float64,2}}   |\n",
       "| d11                  |  32 bytes | Future                                     |\n",
       "| d12                  |  32 bytes | Future                                     |\n",
       "| d21                  |  32 bytes | Future                                     |\n",
       "| d22                  |  32 bytes | Future                                     |\n",
       "| n                    |   8 bytes | Int64                                      |\n",
       "| pi_p                 |   0 bytes | typeof(pi_p)                               |\n",
       "| points_inside_circle |   0 bytes | typeof(points_inside_circle)               |\n",
       "| r                    | 240 bytes | Future                                     |\n",
       "| result               |  32 bytes | Future                                     |\n",
       "| s                    | 176 bytes | Future                                     |\n"
      ],
      "text/plain": [
       "  name                      size summary                                   \n",
       "  –––––––––––––––––––– ––––––––– ––––––––––––––––––––––––––––––––––––––––––\n",
       "  Base                           Module                                    \n",
       "  Core                           Module                                    \n",
       "  DA                   544 bytes 200×200 DArray{Float64,2,Array{Float64,2}}\n",
       "  Main                           Module                                    \n",
       "  aa                     0 bytes typeof(aa)                                \n",
       "  b1                     0 bytes typeof(b1)                                \n",
       "  b2                     0 bytes typeof(b2)                                \n",
       "  d                    600 bytes 10×10 DArray{Float64,2,Array{Float64,2}}  \n",
       "  d11                   32 bytes Future                                    \n",
       "  d12                   32 bytes Future                                    \n",
       "  d21                   32 bytes Future                                    \n",
       "  d22                   32 bytes Future                                    \n",
       "  n                      8 bytes Int64                                     \n",
       "  pi_p                   0 bytes typeof(pi_p)                              \n",
       "  points_inside_circle   0 bytes typeof(points_inside_circle)              \n",
       "  r                    240 bytes Future                                    \n",
       "  result                32 bytes Future                                    \n",
       "  s                    176 bytes Future                                    "
      ]
     },
     "execution_count": 13,
     "metadata": {},
     "output_type": "execute_result"
    }
   ],
   "source": [
    "# Setzte n = 100 und betrachte die Variablen, die im Leader-Prozess gespeichert sind:\n",
    "\n",
    "n = 100\n",
    "d11 = @spawnat 2 aa(n)\n",
    "d12 = @spawnat 3 b1(n)\n",
    "d21 = @spawnat 4 b2(n)\n",
    "d22 = @spawnat 5 aa(n)\n",
    "DA = DArray(reshape([d11 d12 d21 d22], (2, 2))); \n",
    "varinfo()\n"
   ]
  },
  {
   "cell_type": "markdown",
   "metadata": {},
   "source": [
    "DA ist eine 200x200 Matrix und besetzt 544 Bytes Speicher. Jeder Prozess erhält eine 100x100 Matrix zugewiesen."
   ]
  },
  {
   "cell_type": "code",
   "execution_count": 14,
   "metadata": {},
   "outputs": [
    {
     "data": {
      "text/latex": [
       "\\begin{tabular}\n",
       "{l | r | l}\n",
       "name & size & summary \\\\\n",
       "\\hline\n",
       "Base &  & Module \\\\\n",
       "Core &  & Module \\\\\n",
       "Distributed & 1.511 MiB & Module \\\\\n",
       "Main &  & Module \\\\\n",
       "aa & 0 bytes & typeof(aa) \\\\\n",
       "b1 & 0 bytes & typeof(b1) \\\\\n",
       "b2 & 0 bytes & typeof(b2) \\\\\n",
       "d & 760 bytes & 10×10 DArray\\{Float64,2,Array\\{Float64,2\\}\\} \\\\\n",
       "n & 8 bytes & Int64 \\\\\n",
       "pi\\_p & 0 bytes & typeof(pi\\_p) \\\\\n",
       "points\\_inside\\_circle & 0 bytes & typeof(points\\_inside\\_circle) \\\\\n",
       "result & 176 bytes & Future \\\\\n",
       "\\end{tabular}\n"
      ],
      "text/markdown": [
       "| name                 |      size | summary                                  |\n",
       "|:-------------------- | ---------:|:---------------------------------------- |\n",
       "| Base                 |           | Module                                   |\n",
       "| Core                 |           | Module                                   |\n",
       "| Distributed          | 1.511 MiB | Module                                   |\n",
       "| Main                 |           | Module                                   |\n",
       "| aa                   |   0 bytes | typeof(aa)                               |\n",
       "| b1                   |   0 bytes | typeof(b1)                               |\n",
       "| b2                   |   0 bytes | typeof(b2)                               |\n",
       "| d                    | 760 bytes | 10×10 DArray{Float64,2,Array{Float64,2}} |\n",
       "| n                    |   8 bytes | Int64                                    |\n",
       "| pi_p                 |   0 bytes | typeof(pi_p)                             |\n",
       "| points_inside_circle |   0 bytes | typeof(points_inside_circle)             |\n",
       "| result               | 176 bytes | Future                                   |\n"
      ],
      "text/plain": [
       "  name                      size summary                                 \n",
       "  –––––––––––––––––––– ––––––––– ––––––––––––––––––––––––––––––––––––––––\n",
       "  Base                           Module                                  \n",
       "  Core                           Module                                  \n",
       "  Distributed          1.511 MiB Module                                  \n",
       "  Main                           Module                                  \n",
       "  aa                     0 bytes typeof(aa)                              \n",
       "  b1                     0 bytes typeof(b1)                              \n",
       "  b2                     0 bytes typeof(b2)                              \n",
       "  d                    760 bytes 10×10 DArray{Float64,2,Array{Float64,2}}\n",
       "  n                      8 bytes Int64                                   \n",
       "  pi_p                   0 bytes typeof(pi_p)                            \n",
       "  points_inside_circle   0 bytes typeof(points_inside_circle)            \n",
       "  result               176 bytes Future                                  "
      ]
     },
     "execution_count": 14,
     "metadata": {},
     "output_type": "execute_result"
    }
   ],
   "source": [
    "# Betrachte die gespeicherten Variablen des Prozesses 2:\n",
    "fetch(@spawnat 2 varinfo())"
   ]
  },
  {
   "cell_type": "markdown",
   "metadata": {},
   "source": [
    "Zurück zur kleineren Matrix: Nun wollen wir die Matrixmultiplikation A*A direkt auf dem Distributed Array durchführen:"
   ]
  },
  {
   "cell_type": "code",
   "execution_count": 15,
   "metadata": {},
   "outputs": [
    {
     "data": {
      "text/plain": [
       "4×4 Array{Float64,2}:\n",
       " 0.0  0.0  1.0  -4.0\n",
       " 0.0  0.0  0.0   1.0\n",
       " 0.0  0.0  0.0   0.0\n",
       " 0.0  0.0  0.0   0.0"
      ]
     },
     "execution_count": 15,
     "metadata": {},
     "output_type": "execute_result"
    }
   ],
   "source": [
    "d11 = @spawnat 2 aa(4)\n",
    "d12 = @spawnat 3 b1(4)\n",
    "d21 = @spawnat 4 b2(4)\n",
    "d22 = @spawnat 5 aa(4)\n",
    "DA = DArray(reshape([d11 d12 d21 d22], (2, 2)));\n",
    "\n",
    "DB = dzeros(8, 8)\n",
    "DB = DA * DA\n",
    "\n",
    "# Betrachte die Remote-Variablen von Prozess drei:\n",
    "remotecall_fetch(localpart, 3, DB)"
   ]
  },
  {
   "cell_type": "markdown",
   "metadata": {},
   "source": [
    "Wir können über die globalen Indizes remote die ganze Matrix erreichen, auch wenn dieser Teil einem bestimmten Prozess zugeordnet ist. Als Output wird ein View ausgegeben:"
   ]
  },
  {
   "cell_type": "code",
   "execution_count": 16,
   "metadata": {},
   "outputs": [
    {
     "data": {
      "text/plain": [
       "4×4 view(::DArray{Float64,2,Array{Float64,2}}, 5:8, 1:4) with eltype Float64:\n",
       " 0.0  0.0  1.0  -4.0\n",
       " 0.0  0.0  0.0   1.0\n",
       " 0.0  0.0  0.0   0.0\n",
       " 0.0  0.0  0.0   0.0"
      ]
     },
     "execution_count": 16,
     "metadata": {},
     "output_type": "execute_result"
    }
   ],
   "source": [
    "DB[5:8,1:4]"
   ]
  },
  {
   "cell_type": "markdown",
   "metadata": {},
   "source": [
    "### Beispiel: Julia mit Julia (funktioniert hier leider noch nicht wie gewünscht^^)\n",
    "\n",
    "http://mathemartician.blogspot.com/2012/07/julia-set-in-julia.html\n",
    "\n",
    "zum Nachlesen!"
   ]
  },
  {
   "cell_type": "code",
   "execution_count": null,
   "metadata": {},
   "outputs": [],
   "source": [
    "#DistributedArrays, WIDTH, HEIGHT und MAXITER sind global\n",
    "@everywhere WIDTH = 1000\n",
    "@everywhere HEIGHT = 500\n",
    "@everywhere MAXITER = 100\n",
    "\n",
    "#Images ist lokal\n",
    "using Images\n",
    "\n",
    "# Julia-Funktion\n",
    "@everywhere function julia(z, maxiter::Int64)\n",
    "    c = -0.8 + 0.156im\n",
    "    for n = 1:maxiter\n",
    "        if abs(z) > 2.0\n",
    "            return n-1\n",
    "        end\n",
    "        z = z^2 + c\n",
    "    end\n",
    "    return maxiter\n",
    "end\n",
    "\n",
    "# Init-Funktion zum Anlegen des Arrays\n",
    "@everywhere function parJuliaInit(I)\n",
    "    e = (size(I[1], 1), size(I[2], 1))\n",
    "    m = Array(Int, e)\n",
    "    xMin=I[2][1]\n",
    "    yMin=I[1][1]\n",
    "    \n",
    "    for x = I[2], y = I[1]\n",
    "        c = complex((x - WIDTH/2) / (HEIGHT/2), (y - HEIGHT/2) / (HEIGHT/2))\n",
    "        m[y - yMin + 1, x - xMin + 1] = julia(c, MAXITER)\n",
    "    end\n",
    "    return m\n",
    "end\n",
    "\n",
    "# Distributed Array anlegen\n",
    "Dm = DArray(parJuliaInit, (HEIGHT, WIDTH))\n",
    "\n",
    "# Distributed Array auf den lokalen Prozess holen\n",
    "#m = convert(Array, Dm)\n",
    "\n",
    "#Bild als PNG speichern\n",
    "#imwrite(grayim(transpose(m)/(1.0*MAXITER)),\"juliaset.png\")"
   ]
  },
  {
   "cell_type": "code",
   "execution_count": null,
   "metadata": {},
   "outputs": [],
   "source": []
  }
 ],
 "metadata": {
  "kernelspec": {
   "display_name": "Julia 1.4.1",
   "language": "julia",
   "name": "julia-1.4"
  },
  "language_info": {
   "file_extension": ".jl",
   "mimetype": "application/julia",
   "name": "julia",
   "version": "1.4.1"
  }
 },
 "nbformat": 4,
 "nbformat_minor": 4
}
